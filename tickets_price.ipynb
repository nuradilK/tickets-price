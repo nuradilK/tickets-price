{
 "cells": [
  {
   "cell_type": "code",
   "execution_count": 8,
   "metadata": {
    "_cell_guid": "79c7e3d0-c299-4dcb-8224-4455121ee9b0",
    "_uuid": "d629ff2d2480ee46fbb7e2d37f6b5fab8052498a"
   },
   "outputs": [],
   "source": [
    "import pandas as pd\n",
    "from sklearn.model_selection import train_test_split\n",
    "\n",
    "#read the data \n",
    "X = pd.read_csv('./input/renfe.csv')\n",
    "\n",
    "#drop missing price rows \n",
    "X.dropna(axis=0, subset=['price'], inplace=True)\n",
    "y = X.price\n",
    "X.drop(['price'], axis=1, inplace=True)\n",
    "X.drop(['insert_date'], axis=1, inplace=True)\n",
    "\n",
    "#add useful data \n",
    "for col in ['start_date', 'end_date']:\n",
    "    date_col = pd.to_datetime(X[col])\n",
    "    X[col] = date_col\n",
    "    X[col + '_hour'] = date_col.dt.hour\n",
    "    X[col + '_minute'] = date_col.dt.minute\n",
    "    X[col + '_second'] = date_col.dt.second\n",
    "    X[col + '_weekday'] = date_col.dt.weekday_name\n",
    "    X[col + '_day'] = date_col.dt.day\n",
    "    X[col + '_month'] = date_col.dt.month\n",
    "    X[col + '_year'] = date_col.dt.year"
   ]
  },
  {
   "cell_type": "code",
   "execution_count": 9,
   "metadata": {},
   "outputs": [],
   "source": [
    "X['duration'] = X['end_date'] - X['start_date']\n",
    "X['duration'] = X['duration'].apply(lambda x: x.total_seconds())\n",
    "\n",
    "for col in ['start_date', 'end_date', 'Unnamed: 0', 'duration']:\n",
    "    del X[col]\n",
    "    \n",
    "columns_to_drop = [col for col in X.columns if X[col].unique().shape[0] == 1]\n",
    "X.drop(columns=columns_to_drop, inplace=True)"
   ]
  },
  {
   "cell_type": "code",
   "execution_count": 10,
   "metadata": {},
   "outputs": [],
   "source": [
    "#divide into train and validation data\n",
    "X_train, X_valid, y_train, y_valid = train_test_split(X, y, train_size=0.8, test_size=0.2, random_state=0)"
   ]
  },
  {
   "cell_type": "code",
   "execution_count": 11,
   "metadata": {},
   "outputs": [],
   "source": [
    "from sklearn.compose import ColumnTransformer\n",
    "from sklearn.pipeline import Pipeline\n",
    "from sklearn.impute import SimpleImputer\n",
    "from sklearn.ensemble import RandomForestRegressor\n",
    "from sklearn.metrics import mean_absolute_error\n",
    "from sklearn.linear_model import LinearRegression\n",
    "from sklearn.svm import LinearSVR\n",
    "from lightgbm import LGBMRegressor\n",
    "from sklearn.externals import joblib\n",
    "from sklearn.svm import LinearSVR\n",
    "\n",
    "def test(model, train, valid, train_y, valid_y):\n",
    "    model.fit(train, train_y)\n",
    "    preds = model.predict(valid)\n",
    "    return mean_absolute_error(valid_y, preds)\n",
    "\n",
    "def create_model(model, train, train_y, file_name):\n",
    "    model.fit(train, train_y)\n",
    "    joblib.dump(model, file_name)\n",
    "    pass"
   ]
  },
  {
   "cell_type": "code",
   "execution_count": 12,
   "metadata": {},
   "outputs": [],
   "source": [
    "from sklearn.preprocessing import OneHotEncoder\n",
    "\n",
    "#encoded categorical columns\n",
    "categorical_cols = [col for col in X.columns if X[col].dtype == 'object']\n",
    "OH_encoder = OneHotEncoder(handle_unknown='ignore', sparse=False)\n",
    "OH_cols_train = pd.DataFrame(OH_encoder.fit_transform(X_train[categorical_cols]))\n",
    "OH_cols_valid = pd.DataFrame(OH_encoder.transform(X_valid[categorical_cols]))\n",
    "\n",
    "OH_cols_train.index = X_train.index\n",
    "OH_cols_valid.index = X_valid.index\n",
    "\n",
    "num_X_train = X_train.drop(categorical_cols, axis=1)\n",
    "num_X_valid = X_valid.drop(categorical_cols, axis=1)\n",
    "\n",
    "# Add one-hot encoded columns to numerical features\n",
    "OH_X_train = pd.concat([num_X_train, OH_cols_train], axis=1)\n",
    "OH_X_valid = pd.concat([num_X_valid, OH_cols_valid], axis=1)\n"
   ]
  },
  {
   "cell_type": "code",
   "execution_count": 13,
   "metadata": {},
   "outputs": [
    {
     "name": "stdout",
     "output_type": "stream",
     "text": [
      "MAE of a Linear Regression is 7.469951338388925\n"
     ]
    }
   ],
   "source": [
    "model_linear_regression = LinearRegression()\n",
    "print(\"MAE of a Linear Regression is {}\".format(test(model_linear_regression, OH_X_train, OH_X_valid, y_train, y_valid)))"
   ]
  },
  {
   "cell_type": "code",
   "execution_count": 14,
   "metadata": {},
   "outputs": [
    {
     "name": "stdout",
     "output_type": "stream",
     "text": [
      "MAE of a LGBMRegressor is 4.201617434414411\n"
     ]
    }
   ],
   "source": [
    "model_LGBMRegressor = LGBMRegressor()\n",
    "print(\"MAE of a LGBMRegressor is {}\".format(test(model_LGBMRegressor, OH_X_train, OH_X_valid, y_train, y_valid)))"
   ]
  },
  {
   "cell_type": "code",
   "execution_count": 15,
   "metadata": {},
   "outputs": [
    {
     "name": "stdout",
     "output_type": "stream",
     "text": [
      "MAE of a LinearSVR is 7.104599754662774\n"
     ]
    },
    {
     "name": "stderr",
     "output_type": "stream",
     "text": [
      "/opt/conda/lib/python3.6/site-packages/sklearn/svm/base.py:929: ConvergenceWarning: Liblinear failed to converge, increase the number of iterations.\n",
      "  \"the number of iterations.\", ConvergenceWarning)\n"
     ]
    }
   ],
   "source": [
    "model_LinearSVR = LinearSVR()\n",
    "print(\"MAE of a LinearSVR is {}\".format(test(model_LinearSVR, OH_X_train, OH_X_valid, y_train, y_valid)))"
   ]
  }
 ],
 "metadata": {
  "kernelspec": {
   "display_name": "Python 3",
   "language": "python",
   "name": "python3"
  },
  "language_info": {
   "codemirror_mode": {
    "name": "ipython",
    "version": 3
   },
   "file_extension": ".py",
   "mimetype": "text/x-python",
   "name": "python",
   "nbconvert_exporter": "python",
   "pygments_lexer": "ipython3",
   "version": "3.7.3"
  }
 },
 "nbformat": 4,
 "nbformat_minor": 1
}
