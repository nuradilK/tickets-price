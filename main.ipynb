{
 "cells": [
  {
   "cell_type": "code",
   "execution_count": 108,
   "metadata": {},
   "outputs": [
    {
     "data": {
      "text/html": [
       "<div>\n",
       "<style scoped>\n",
       "    .dataframe tbody tr th:only-of-type {\n",
       "        vertical-align: middle;\n",
       "    }\n",
       "\n",
       "    .dataframe tbody tr th {\n",
       "        vertical-align: top;\n",
       "    }\n",
       "\n",
       "    .dataframe thead th {\n",
       "        text-align: right;\n",
       "    }\n",
       "</style>\n",
       "<table border=\"1\" class=\"dataframe\">\n",
       "  <thead>\n",
       "    <tr style=\"text-align: right;\">\n",
       "      <th></th>\n",
       "      <th>origin</th>\n",
       "      <th>destination</th>\n",
       "      <th>start_date</th>\n",
       "      <th>end_date</th>\n",
       "      <th>train_type</th>\n",
       "      <th>price</th>\n",
       "      <th>train_class</th>\n",
       "      <th>fare</th>\n",
       "    </tr>\n",
       "  </thead>\n",
       "  <tbody>\n",
       "    <tr>\n",
       "      <th>0</th>\n",
       "      <td>MADRID</td>\n",
       "      <td>SEVILLA</td>\n",
       "      <td>2019-09-17 08:00:00</td>\n",
       "      <td>2019-09-17 10:32:00</td>\n",
       "      <td>AVE</td>\n",
       "      <td>76.3</td>\n",
       "      <td>Turista</td>\n",
       "      <td>Flexible</td>\n",
       "    </tr>\n",
       "  </tbody>\n",
       "</table>\n",
       "</div>"
      ],
      "text/plain": [
       "   origin destination           start_date             end_date train_type  \\\n",
       "0  MADRID     SEVILLA  2019-09-17 08:00:00  2019-09-17 10:32:00        AVE   \n",
       "\n",
       "   price train_class      fare  \n",
       "0   76.3     Turista  Flexible  "
      ]
     },
     "execution_count": 108,
     "metadata": {},
     "output_type": "execute_result"
    }
   ],
   "source": [
    "import pandas as pd\n",
    "from sklearn.linear_model import LinearRegression\n",
    "from sklearn.externals import joblib\n",
    "#Please enter data to predict a ticket price. To check accuracy, you may take data from https://venta.renfe.com/\n",
    "#Example: MADRID,SEVILLA,2019-05-29 06:20:00,2019-05-29 09:16:00,   AV City,38.55,Turista,Promo \n",
    "#NOTE: the algorithm is case sensible, so please pay close attention to a letter case of entering data\n",
    "X = [\n",
    "    ['MADRID','SEVILLA','2019-09-17 08:00:00','2019-09-17 10:32:00',   'AVE',76.30,'Turista','Flexible']\n",
    "]\n",
    "X = pd.DataFrame(X, columns=['origin', 'destination', 'start_date', 'end_date', 'train_type', 'price', 'train_class', 'fare'])\n",
    "X"
   ]
  },
  {
   "cell_type": "code",
   "execution_count": 109,
   "metadata": {},
   "outputs": [],
   "source": [
    "from sklearn.preprocessing import OneHotEncoder\n",
    "\n",
    "def preprocess_data(df):\n",
    "    df.dropna(axis=0, subset=['price'], inplace=True)\n",
    "    y = df.price\n",
    "    df.drop(['price'], axis=1, inplace=True)\n",
    "\n",
    "    for col in ['start_date', 'end_date']:\n",
    "        date_col = pd.to_datetime(df[col])\n",
    "        df[col] = date_col\n",
    "        df[col + '_hour'] = date_col.dt.hour\n",
    "        df[col + '_minute'] = date_col.dt.minute\n",
    "        df[col + '_second'] = date_col.dt.second\n",
    "        df[col + '_weekday'] = date_col.dt.weekday_name\n",
    "        df[col + '_day'] = date_col.dt.day\n",
    "        df[col + '_month'] = date_col.dt.month\n",
    "        df[col + '_year'] = date_col.dt.year\n",
    "\n",
    "    df['duration'] = df['end_date'] - df['start_date']\n",
    "    df['duration'] = df['duration'].apply(lambda x: x.total_seconds())\n",
    "\n",
    "    for col in ['start_date', 'end_date']:\n",
    "        del df[col]\n",
    "\n",
    "\n",
    "    #encoded categorical columns\n",
    "    OHE_file_path = 'OH_encoder.sav'\n",
    "    categorical_cols = [col for col in df.columns if df[col].dtype == 'object']\n",
    "    OH_encoder = joblib.load(OHE_file_path)\n",
    "    OH_object = pd.DataFrame(OH_encoder.transform(df[categorical_cols]))\n",
    "\n",
    "    OH_object.index = df.index\n",
    "\n",
    "    num_df = df.drop(categorical_cols, axis=1)\n",
    "\n",
    "    # Add one-hot encoded columns to numerical features\n",
    "    OH_df = pd.concat([num_df, OH_object], axis=1)\n",
    "    return OH_df"
   ]
  },
  {
   "cell_type": "code",
   "execution_count": 110,
   "metadata": {},
   "outputs": [
    {
     "name": "stdout",
     "output_type": "stream",
     "text": [
      "MAE is 8.393322753906247\n",
      "[67.90667725]\n"
     ]
    }
   ],
   "source": [
    "from sklearn.metrics import mean_absolute_error\n",
    "\n",
    "linear_regression_path = 'LinearRegression.sav'\n",
    "loaded_model = joblib.load(linear_regression_path)\n",
    "\n",
    "X = preprocess_data(X)\n",
    "\n",
    "preds = loaded_model.predict(X)\n",
    "print(\"MAE is {}\".format(mean_absolute_error(y, preds)))\n",
    "\n",
    "output = pd.DataFrame({'Id': X.index,\n",
    "                       'SalePrice': preds})\n",
    "output.to_csv('predicted_prices.csv', index=False)\n",
    "X.to_csv('input.csv')\n",
    "\n",
    "print(preds)"
   ]
  },
  {
   "cell_type": "code",
   "execution_count": null,
   "metadata": {},
   "outputs": [],
   "source": []
  }
 ],
 "metadata": {
  "kernelspec": {
   "display_name": "Python 3",
   "language": "python",
   "name": "python3"
  },
  "language_info": {
   "codemirror_mode": {
    "name": "ipython",
    "version": 3
   },
   "file_extension": ".py",
   "mimetype": "text/x-python",
   "name": "python",
   "nbconvert_exporter": "python",
   "pygments_lexer": "ipython3",
   "version": "3.7.3"
  }
 },
 "nbformat": 4,
 "nbformat_minor": 2
}
